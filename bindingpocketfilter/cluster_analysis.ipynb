{
 "cells": [
  {
   "cell_type": "markdown",
   "metadata": {},
   "source": [
    "### Notebook to accompany the module interactive_cluster.py"
   ]
  },
  {
   "cell_type": "code",
   "execution_count": 1,
   "metadata": {},
   "outputs": [
    {
     "name": "stderr",
     "output_type": "stream",
     "text": [
      "/home/yorick/.conda/envs/drugex/lib/python3.9/site-packages/tqdm/auto.py:22: TqdmWarning: IProgress not found. Please update jupyter and ipywidgets. See https://ipywidgets.readthedocs.io/en/stable/user_install.html\n",
      "  from .autonotebook import tqdm as notebook_tqdm\n"
     ]
    }
   ],
   "source": [
    "import interactive_cluster as ic\n",
    "\n",
    "ccr2_ligs = ic.InteractiveCluster(verbose = False)\n",
    "allo_ligs = ic.InteractiveCluster(verbose = False)"
   ]
  },
  {
   "cell_type": "code",
   "execution_count": 2,
   "metadata": {},
   "outputs": [],
   "source": [
    "# files: \n",
    "\n",
    "ccr2 = \"/zfsdata/data/yorick/Internship/Files/Datasets/hCCR2_LIGANDS_2000-2022.tsv\"\n",
    "saveto = \"/zfsdata/data/yorick/Internship/Scripts/bindingpocketfilter/Data/hCCR2_LIGANDS_2000-2022\" \n",
    "allo = \"/zfsdata/data/yorick/Internship/Files/Datasets/hCCR2_LIGANDS_allosteric_combined.tsv\""
   ]
  },
  {
   "cell_type": "code",
   "execution_count": 4,
   "metadata": {},
   "outputs": [
    {
     "name": "stderr",
     "output_type": "stream",
     "text": [
      "/home/yorick/.conda/envs/drugex/lib/python3.9/site-packages/sklearn/manifold/_t_sne.py:991: FutureWarning: The PCA initialization in TSNE will change to have the standard deviation of PC1 equal to 1e-4 in 1.2. This will ensure better convergence.\n",
      "  warnings.warn(\n"
     ]
    }
   ],
   "source": [
    "# workflow: load, prepare and calculate ccr2 data from file\n",
    "\n",
    "ccr2_ligs.load_data(data = ccr2, cols = [\"InChIKey\", \"all_doc_ids\", \"Year\", \"pchembl_value_Mean\", \"database\", \"ligandtype\"])\n",
    "ccr2_ligs.prep_data()\n",
    "ccr2_ligs.calc_tsne()\n",
    "ccr2_ligs.save(filename = saveto)"
   ]
  },
  {
   "cell_type": "code",
   "execution_count": 8,
   "metadata": {},
   "outputs": [
    {
     "data": {
      "text/html": [
       "\n",
       "        <iframe\n",
       "            width=\"100%\"\n",
       "            height=\"850\"\n",
       "            src=\"http://127.0.0.1:9501/\"\n",
       "            frameborder=\"0\"\n",
       "            allowfullscreen\n",
       "            \n",
       "        ></iframe>\n",
       "        "
      ],
      "text/plain": [
       "<IPython.lib.display.IFrame at 0x7fc0b5539af0>"
      ]
     },
     "metadata": {},
     "output_type": "display_data"
    }
   ],
   "source": [
    "# plot tsne \n",
    "ccr2_ligs.plot_tsne(port = 9501, color_by = \"ligandtype\")"
   ]
  },
  {
   "cell_type": "code",
   "execution_count": 5,
   "metadata": {},
   "outputs": [
    {
     "data": {
      "text/html": [
       "\n",
       "        <iframe\n",
       "            width=\"100%\"\n",
       "            height=\"850\"\n",
       "            src=\"http://127.0.0.1:9502/\"\n",
       "            frameborder=\"0\"\n",
       "            allowfullscreen\n",
       "            \n",
       "        ></iframe>\n",
       "        "
      ],
      "text/plain": [
       "<IPython.lib.display.IFrame at 0x7f76eedc5400>"
      ]
     },
     "metadata": {},
     "output_type": "display_data"
    }
   ],
   "source": [
    "# or initialize cluster from saved preprocessed data:\n",
    "\n",
    "prep_ccr2 = ic.InteractiveCluster()\n",
    "\n",
    "prep_ccr2.load_prepdata(filename = saveto)\n",
    "prep_ccr2.plot_tsne(port = 9502, color_by = \"Year\")"
   ]
  },
  {
   "cell_type": "code",
   "execution_count": 10,
   "metadata": {},
   "outputs": [
    {
     "name": "stderr",
     "output_type": "stream",
     "text": [
      "/home/yorick/.conda/envs/drugex/lib/python3.9/site-packages/sklearn/manifold/_t_sne.py:991: FutureWarning:\n",
      "\n",
      "The PCA initialization in TSNE will change to have the standard deviation of PC1 equal to 1e-4 in 1.2. This will ensure better convergence.\n",
      "\n"
     ]
    },
    {
     "data": {
      "text/html": [
       "\n",
       "        <iframe\n",
       "            width=\"100%\"\n",
       "            height=\"850\"\n",
       "            src=\"http://127.0.0.1:9503/\"\n",
       "            frameborder=\"0\"\n",
       "            allowfullscreen\n",
       "            \n",
       "        ></iframe>\n",
       "        "
      ],
      "text/plain": [
       "<IPython.lib.display.IFrame at 0x7fc0b43dbca0>"
      ]
     },
     "metadata": {},
     "output_type": "display_data"
    }
   ],
   "source": [
    "# or generate tsne directly from .tsv file:\n",
    "allo_ligs.gen_tsne(pfile = allo, port = 9503, load_cols =  [\"InChIKey\", \"all_doc_ids\", \"Year\", \"pchembl_value_Mean\",], color_by = \"Scaffold\")"
   ]
  }
 ],
 "metadata": {
  "kernelspec": {
   "display_name": "Python 3.9.12 ('drugex')",
   "language": "python",
   "name": "python3"
  },
  "language_info": {
   "codemirror_mode": {
    "name": "ipython",
    "version": 3
   },
   "file_extension": ".py",
   "mimetype": "text/x-python",
   "name": "python",
   "nbconvert_exporter": "python",
   "pygments_lexer": "ipython3",
   "version": "3.9.12"
  },
  "orig_nbformat": 4,
  "vscode": {
   "interpreter": {
    "hash": "247f509e66b5726e604dcb8d7c263a474a68d00ef2f6cb6ef077c8af5928567e"
   }
  }
 },
 "nbformat": 4,
 "nbformat_minor": 2
}
