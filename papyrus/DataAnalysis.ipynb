{
 "cells": [
  {
   "cell_type": "markdown",
   "metadata": {},
   "source": [
    "Shown below is the data analysis of datasets hCCR2_LIGANDS and hCCR158_LIGANDS (the antitarget), as retrieved from papyrus.\n"
   ]
  },
  {
   "cell_type": "markdown",
   "metadata": {},
   "source": [
    "### First the hCCR2 dataset looking at pchembl"
   ]
  },
  {
   "cell_type": "code",
   "execution_count": 1,
   "metadata": {},
   "outputs": [
    {
     "name": "stdout",
     "output_type": "stream",
     "text": [
      "the mean of the data is:  6.871632091690544\n",
      "and the median of the data is:  6.94\n"
     ]
    },
    {
     "data": {
      "image/png": "[encoded data removed]",
      "text/plain": [
       "<Figure size 432x288 with 1 Axes>"
      ]
     },
     "metadata": {
      "needs_background": "light"
     },
     "output_type": "display_data"
    }
   ],
   "source": [
    "import matplotlib.pyplot as plt\n",
    "import pandas as pd\n",
    "# import numpy as np\n",
    "import split_data as split\n",
    "\n",
    "pfile = \"/zfsdata/data/yorick/Internship/Files/Datasets/basedatasets/hCCR2_LIGANDS_achiral_2000-2021_accession.tsv\"\n",
    "# import relevant files\n",
    "LigTot = pd.read_csv(pfile, sep='\\t')\n",
    "# LigAct = pd.read_csv(\"/zfsdata/data/yorick/Internship/Files/hCCR2_LIGANDS_active.tsv\", sep='\\t')\n",
    "# LigInAct = pd.read_csv(\"/zfsdata/data/yorick/Internship/Files/hCCR2_LIGANDS_inactive.tsv\", sep='\\t')\n",
    "\n",
    "# retrieve data from dataframe and cast to float\n",
    "data = LigTot[\"pchembl_value_Mean\"].astype(float)\n",
    "mean = data.mean()\n",
    "median = data.median()\n",
    "\n",
    "print(\"the mean of the data is: \", mean)\n",
    "print(\"and the median of the data is: \", median)\n",
    "\n",
    "# plot histogram\n",
    "graph = data.plot.hist(title=\"Histogram of frequency pChEMBL in hCCR2 dataset\", bins = 30,)\n",
    "graph.set(xlabel= \"pChEMBL\", ylabel=\"Frequency\" );\n",
    "\n",
    "\n",
    "\n"
   ]
  },
  {
   "cell_type": "code",
   "execution_count": 8,
   "metadata": {},
   "outputs": [
    {
     "name": "stdout",
     "output_type": "stream",
     "text": [
      "with median 6.94, size of subset 'up' is:  (875, 34)\n",
      "with median 6.94, size of subset 'down' is:  (870, 34)\n",
      "with mean 6.871632091690544, size of subset 'up' is:  (912, 34)\n",
      "with mean 6.871632091690544, size of subset 'down' is:  (833, 34)\n",
      "with threshold 6.5, size of subset 'up' is:  (1089, 34)\n",
      "with threshold 6.5, size of subset 'down' is:  (656, 34)\n"
     ]
    }
   ],
   "source": [
    "# When using the median to split up the dataset\n",
    "up, down = split.datasplitter(LigTot, \"pchembl_value_Mean\", median)\n",
    "print(f\"with median {median}, size of subset 'up' is: \", up.shape)\n",
    "print(f\"with median {median}, size of subset 'down' is: \", down.shape)\n",
    "\n",
    "# When using the mean to split up the dataset\n",
    "up2, down2 = split.datasplitter(LigTot, \"pchembl_value_Mean\", mean)\n",
    "print(f\"with mean {mean}, size of subset 'up' is: \", up2.shape)\n",
    "print(f\"with mean {mean}, size of subset 'down' is: \", down2.shape)\n",
    "\n",
    "# When using 6.5 to split up the dataset\n",
    "up3, down3 = split.datasplitter(LigTot, \"pchembl_value_Mean\", 6.5)\n",
    "print(f\"with threshold {6.5}, size of subset 'up' is: \", up3.shape)\n",
    "print(f\"with threshold {6.5}, size of subset 'down' is: \", down3.shape)\n",
    "# up2.plot.hist(by=\"pchembl_value_Mean\", title = \"Upper Subset\", bins = 20) YOU NEED TO RECAST PCHEMBL DATA INTO FLOAT\n"
   ]
  },
  {
   "cell_type": "markdown",
   "metadata": {},
   "source": [
    "### Now the Anti hCCR158 Dataset looking at pchembl"
   ]
  },
  {
   "cell_type": "code",
   "execution_count": 18,
   "metadata": {},
   "outputs": [
    {
     "name": "stdout",
     "output_type": "stream",
     "text": [
      "the mean of the data is:  7.100226580226905\n",
      "and the median of the data is:  7.24\n"
     ]
    },
    {
     "data": {
      "image/png": "[encoded data removed]",
      "text/plain": [
       "<Figure size 432x288 with 1 Axes>"
      ]
     },
     "metadata": {
      "needs_background": "light"
     },
     "output_type": "display_data"
    }
   ],
   "source": [
    "# import relevant files\n",
    "\n",
    "anti_pfile = \"/zfsdata/data/yorick/Internship/Files/Datasets/basedatasets/hCCR158_LIGANDS.tsv\"\n",
    "LigAnti = pd.read_csv(anti_pfile, sep='\\t')\n",
    "\n",
    "\n",
    "# retrieve data from dataframe and cast to float\n",
    "data_anti = LigAnti[\"pchembl_value_Mean\"].astype(float)\n",
    "mean_anti = data_anti.mean()\n",
    "median_anti = data_anti.median()\n",
    "\n",
    "print(\"the mean of the data is: \", mean_anti)\n",
    "print(\"and the median of the data is: \", median_anti)\n",
    "\n",
    "# plot histogram\n",
    "graph2 = data_anti.plot.hist(title=\"Histogram of frequency pChEMBL in hCCR158_LIGANDS\", bins = 20)\n",
    "graph2.set(xlabel= \"pChEMBL\", ylabel=\"Frequency\" );"
   ]
  },
  {
   "cell_type": "code",
   "execution_count": 19,
   "metadata": {},
   "outputs": [
    {
     "name": "stdout",
     "output_type": "stream",
     "text": [
      "with median 7.24, size of subset 'up' is:  (1545, 31)\n",
      "with median 7.24, size of subset 'down' is:  (1540, 31)\n",
      "with mean 7.100226580226905, size of subset 'up' is:  (1650, 31)\n",
      "with mean 7.100226580226905, size of subset 'down' is:  (1435, 31)\n",
      "with threshold 6.5, size of subset 'up' is:  (2041, 31)\n",
      "with threshold 6.5, size of subset 'down' is:  (1044, 31)\n"
     ]
    }
   ],
   "source": [
    "# When using the median to split up the dataset\n",
    "up_anti, down_anti = split.datasplitter(LigAnti, \"pchembl_value_Mean\", median_anti)\n",
    "print(f\"with median {median_anti}, size of subset 'up' is: \", up_anti.shape)\n",
    "print(f\"with median {median_anti}, size of subset 'down' is: \", down_anti.shape)\n",
    "\n",
    "# When using the mean to split up the dataset\n",
    "up_anti2, down_anti2 = split.datasplitter(LigAnti, \"pchembl_value_Mean\", mean_anti)\n",
    "print(f\"with mean {mean_anti}, size of subset 'up' is: \", up_anti2.shape)\n",
    "print(f\"with mean {mean_anti}, size of subset 'down' is: \", down_anti2.shape)\n",
    "\n",
    "# When using 6.5 to split up the dataset\n",
    "up_anti2, down_anti2 = split.datasplitter(LigAnti, \"pchembl_value_Mean\", 6.5)\n",
    "print(f\"with threshold {6.5}, size of subset 'up' is: \", up_anti2.shape)\n",
    "print(f\"with threshold {6.5}, size of subset 'down' is: \", down_anti2.shape)\n"
   ]
  },
  {
   "cell_type": "markdown",
   "metadata": {},
   "source": [
    "### Now look at the distribution of years in which compounds were published in the hCCR2 dataset "
   ]
  },
  {
   "cell_type": "code",
   "execution_count": 10,
   "metadata": {},
   "outputs": [
    {
     "name": "stdout",
     "output_type": "stream",
     "text": [
      "all items in CCR2_year is: 1741\n",
      "<class 'pandas.core.series.Series'>\n",
      "Sum of all frequencies in dct is: 1741\n"
     ]
    },
    {
     "data": {
      "image/png": "[encoded data removed]",
      "text/plain": [
       "<Figure size 432x288 with 1 Axes>"
      ]
     },
     "metadata": {
      "needs_background": "light"
     },
     "output_type": "display_data"
    }
   ],
   "source": [
    "# retrieve data from dataframe and cast to float\n",
    "import numpy as np \n",
    "\n",
    "\n",
    "CCR2_year = LigTot[\"Year\"].astype(float)\n",
    "CCR2_year.dropna(inplace=True)\n",
    "print(f\"all items in CCR2_year is: {len(CCR2_year)}\")\n",
    "\n",
    "\n",
    "dct = {}\n",
    "print(type(CCR2_year))\n",
    "# print(CCR2_year)\n",
    "\n",
    "# make dictionary couting years and frequencies.\n",
    "for el in CCR2_year:\n",
    "    if el not in dct.keys():\n",
    "        dct[el] = 1\n",
    "    elif el in dct.keys():\n",
    "        dct[el] += 1\n",
    "\n",
    "print(f'Sum of all frequencies in dct is: {sum(dct.values())}')\n",
    "\n",
    "# sort ditionary:\n",
    "sorted_dct = sorted(dct)\n",
    "final_dct = {key:dct[key] for key in sorted_dct}\n",
    "\n",
    "\n",
    "# Plot frequencies as bar graph\n",
    "keys = [str(int(list(final_dct.keys())[e])) for e in range(len(final_dct.keys()))]\n",
    "barplot = plt.bar(keys, final_dct.values())\n",
    "plt.xticks(rotation=-45)\n",
    "plt.xlabel(\"Year\")\n",
    "plt.ylabel(\"Frequency\")\n",
    "plt.title(\"Frequency of hCCR2 compounds per year\");\n",
    "# index.sort()\n",
    "# print(index)\n",
    "\n"
   ]
  },
  {
   "cell_type": "code",
   "execution_count": 11,
   "metadata": {},
   "outputs": [
    {
     "name": "stdout",
     "output_type": "stream",
     "text": [
      "[36, 55, 58, 164, 169, 229, 522, 669, 740, 841, 1130, 1304, 1367, 1534, 1620, 1653, 1655, 1681, 1724, 1725, 1741]\n"
     ]
    }
   ],
   "source": [
    "# cumlative frequencies over the years of CCR2\n",
    "cuml_year = []\n",
    "for el, val in enumerate(final_dct.values()):\n",
    "    if el == 0:\n",
    "        cuml_year.append(val)\n",
    "        # print(cuml_year)\n",
    "    else:\n",
    "        new_entry = val + cuml_year[el-1]\n",
    "        cuml_year.append(new_entry)\n",
    "        # print(cuml_year, \" + \", val)\n",
    "print(cuml_year)\n",
    "\n"
   ]
  },
  {
   "cell_type": "markdown",
   "metadata": {},
   "source": [
    "Cumulative graph of histogram of hCCR2 compounds per year"
   ]
  },
  {
   "cell_type": "code",
   "execution_count": 44,
   "metadata": {},
   "outputs": [
    {
     "data": {
      "image/png": "[encoded data removed]",
      "text/plain": [
       "<Figure size 432x288 with 1 Axes>"
      ]
     },
     "metadata": {
      "needs_background": "light"
     },
     "output_type": "display_data"
    }
   ],
   "source": [
    "# Plot frequencies as bar graph\n",
    "\n",
    "from matplotlib.ticker import FormatStrFormatter\n",
    "\n",
    "# Normalize frequencies\n",
    "maxn = max(cuml_year)\n",
    "norm_years = [float(cuml_year[ele] / maxn) for ele in range(len(cuml_year))]\n",
    "# print(norm_years)\n",
    "\n",
    "# get list of keys as strings\n",
    "keys = [str(int(list(final_dct.keys())[e])) for e in range(len(final_dct.keys()))]\n",
    "# print(keys)\n",
    "\n",
    "\n",
    "plt.bar(keys, norm_years) # normalized bar graph\n",
    "# plt.bar(keys, cuml_year) # cumulative years\n",
    "\n",
    "plt.axhline([0.8], color = 'k', linestyle = 'dashed', linewidth=1)\n",
    "plt.axhline([0.9], color = 'k', linestyle = 'dashed', linewidth=1)\n",
    "# plt.plot(('2000', '2013'), (0.8, 0.8), color = 'k', linestyle = 'dashed', linewidth=1)\n",
    "# plt.hlines(y=0.8, xmin = '2000', xmax = '2013')\n",
    "plt.xlabel(\"Year\")\n",
    "plt.xticks(rotation = -45)\n",
    "plt.yticks([n for n in np.linspace(0,1,11)])\n",
    "plt.ylabel(\"Cumulative Normalized Frequency\")\n",
    "plt.title(\"Cumulative frequency of hCCR2 compounds per year\");"
   ]
  },
  {
   "cell_type": "markdown",
   "metadata": {},
   "source": [
    "### Now we look at the histogram and cumulative histogram of hCCR158_LIGANDS per year"
   ]
  },
  {
   "cell_type": "code",
   "execution_count": 65,
   "metadata": {},
   "outputs": [
    {
     "name": "stdout",
     "output_type": "stream",
     "text": [
      "all items in hCCR158_year is: 3117\n",
      "Sum of all frequencies in dct is: 3117\n"
     ]
    },
    {
     "data": {
      "image/png": "[encoded data removed]",
      "text/plain": [
       "<Figure size 432x288 with 1 Axes>"
      ]
     },
     "metadata": {
      "needs_background": "light"
     },
     "output_type": "display_data"
    }
   ],
   "source": [
    "\n",
    "hCCR158_year = LigAnti[\"Year\"].astype(float)\n",
    "hCCR158_year.dropna(inplace=True)\n",
    "print(f\"all items in hCCR158_year is: {len(hCCR158_year)}\")\n",
    "\n",
    "\n",
    "a_dct = {}\n",
    "# print(type(hCCR158_year))\n",
    "# # print(CCR2_year)\n",
    "\n",
    "# make dictionary couting years and frequencies.\n",
    "for el in hCCR158_year:\n",
    "    if el not in a_dct.keys():\n",
    "        a_dct[el] = 1\n",
    "    elif el in a_dct.keys():\n",
    "        a_dct[el] += 1\n",
    "\n",
    "print(f'Sum of all frequencies in dct is: {sum(a_dct.values())}')\n",
    "\n",
    "# sort ditionary:\n",
    "sorted_a_dct = sorted(a_dct)\n",
    "final_a_dct = {key:a_dct[key] for key in sorted_a_dct}\n",
    "\n",
    "\n",
    "# Plot frequencies as bar graph\n",
    "a_keys = [str(int(list(final_a_dct.keys())[e])) for e in range(len(final_a_dct.keys()))]\n",
    "barplot = plt.bar(a_keys, final_a_dct.values())\n",
    "plt.xticks(rotation=-45)\n",
    "plt.xlabel(\"Year\")\n",
    "plt.ylabel(\"Frequency\")\n",
    "plt.title(\"Frequency of hCCR[1,5,8] compounds per year\");\n",
    "# index.sort()\n",
    "# print(index)\n"
   ]
  },
  {
   "cell_type": "code",
   "execution_count": 45,
   "metadata": {},
   "outputs": [
    {
     "name": "stdout",
     "output_type": "stream",
     "text": [
      "all years:  [36, 55, 58, 164, 169, 229, 522, 669, 740, 841, 1130, 1304, 1367, 1534, 1620, 1653, 1655, 1681, 1724, 1725, 1741]\n",
      "normalized frequency per years:  [0.023419955085017645, 0.03176130895091434, 0.1450112287455887, 0.17228103946102022, 0.21302534488290023, 0.31055502085338466, 0.3618864292589028, 0.39268527430221367, 0.47962784728906, 0.5386589669554058, 0.6008982996470965, 0.6910490856592878, 0.7494385627205646, 0.8411934552454283, 0.9274943856272057, 0.9557266602502407, 0.971767725376965, 0.9810715431504652, 0.9839589348732756, 0.9990375360923965, 1.0]\n",
      "['2000', '2001', '2003', '2004', '2005', '2006', '2007', '2008', '2009', '2010', '2011', '2012', '2013', '2014', '2015', '2016', '2017', '2018', '2019', '2020', '2021']\n"
     ]
    },
    {
     "data": {
      "image/png": "[encoded data removed]",
      "text/plain": [
       "<Figure size 432x288 with 1 Axes>"
      ]
     },
     "metadata": {
      "needs_background": "light"
     },
     "output_type": "display_data"
    }
   ],
   "source": [
    "# Plot frequencies as bar graph\n",
    "\n",
    "from matplotlib.ticker import FormatStrFormatter\n",
    "\n",
    "# cumlative frequencies over the years of CCR2\n",
    "cuml_a_year = []\n",
    "for el, val in enumerate(final_a_dct.values()):\n",
    "    if el == 0:\n",
    "        cuml_a_year.append(val)\n",
    "        # print(cuml_year)\n",
    "    else:\n",
    "        new_entry = val + cuml_a_year[el-1]\n",
    "        cuml_a_year.append(new_entry)\n",
    "        # print(cuml_year, \" + \", val)\n",
    "print(\"all years: \", cuml_year)\n",
    "\n",
    "\n",
    "# Normalize frequencies\n",
    "maxn = max(cuml_a_year)\n",
    "norm_a_years = [float(cuml_a_year[ele] / maxn) for ele in range(len(cuml_a_year))]\n",
    "print(\"normalized frequency per years: \", norm_a_years)\n",
    "\n",
    "# get list of keys as strings\n",
    "a_keys = [str(int(list(final_a_dct.keys())[e])) for e in range(len(final_a_dct.keys()))]\n",
    "print(keys)\n",
    "\n",
    "\n",
    "plt.bar(a_keys, norm_a_years) # normalized bar graph\n",
    "# plt.bar(keys, cuml_year) # cumulative years\n",
    "\n",
    "plt.axhline([0.8], color = 'k', linestyle = 'dashed', linewidth=1)\n",
    "plt.axhline([0.9], color = 'k', linestyle = 'dashed', linewidth=1)\n",
    "# plt.plot(('2000', '2013'), (0.8, 0.8), color = 'k', linestyle = 'dashed', linewidth=1)\n",
    "# plt.hlines(y=0.8, xmin = '2000', xmax = '2013')\n",
    "plt.xlabel(\"Year\")\n",
    "plt.xticks(rotation = -45)\n",
    "plt.yticks([n for n in np.linspace(0,1,11)])\n",
    "plt.ylabel(\"Cumulative Normalized Frequency\")\n",
    "plt.title(\"Cumulative frequency of hCCR[1,5,8] compounds per year\");"
   ]
  },
  {
   "cell_type": "markdown",
   "metadata": {},
   "source": [
    "### Look at splitting data for between 2014 and 2015"
   ]
  },
  {
   "cell_type": "code",
   "execution_count": 2,
   "metadata": {},
   "outputs": [
    {
     "name": "stdout",
     "output_type": "stream",
     "text": [
      "Number of items in year up: 374\n",
      "Number of items in year down: 1367\n",
      "Ratio: 1.0 op 3.6550802139037435\n"
     ]
    }
   ],
   "source": [
    "yr_up, yr_down = split.datasplitter(LigTot, \"Year\", 2014)\n",
    "print(f\"Number of items in year up: {len(yr_up)}\")\n",
    "print(f\"Number of items in year down: {len(yr_down)}\")\n",
    "print(f\"Ratio: {len(yr_up)/len(yr_up)} op {len(yr_down)/len(yr_up)}\")"
   ]
  },
  {
   "cell_type": "code",
   "execution_count": 3,
   "metadata": {},
   "outputs": [
    {
     "ename": "NameError",
     "evalue": "name 'LigAnti' is not defined",
     "output_type": "error",
     "traceback": [
      "\u001b[0;31m---------------------------------------------------------------------------\u001b[0m",
      "\u001b[0;31mNameError\u001b[0m                                 Traceback (most recent call last)",
      "\u001b[1;32m/zfsdata/data/yorick/Internship/Scripts/PapyrusData/DataAnalysis.ipynb Cell 18\u001b[0m in \u001b[0;36m<cell line: 1>\u001b[0;34m()\u001b[0m\n\u001b[0;32m----> <a href='vscode-notebook-cell://ssh-remote%2Bgalba/zfsdata/data/yorick/Internship/Scripts/PapyrusData/DataAnalysis.ipynb#X23sdnNjb2RlLXJlbW90ZQ%3D%3D?line=0'>1</a>\u001b[0m yr_up_an, yr_down_an \u001b[39m=\u001b[39m split\u001b[39m.\u001b[39mdatasplitter(LigAnti, \u001b[39m\"\u001b[39m\u001b[39mYear\u001b[39m\u001b[39m\"\u001b[39m, \u001b[39m2014\u001b[39m)\n\u001b[1;32m      <a href='vscode-notebook-cell://ssh-remote%2Bgalba/zfsdata/data/yorick/Internship/Scripts/PapyrusData/DataAnalysis.ipynb#X23sdnNjb2RlLXJlbW90ZQ%3D%3D?line=1'>2</a>\u001b[0m \u001b[39mprint\u001b[39m(\u001b[39mf\u001b[39m\u001b[39m\"\u001b[39m\u001b[39mNumber of items in year up: \u001b[39m\u001b[39m{\u001b[39;00m\u001b[39mlen\u001b[39m(yr_up_an)\u001b[39m}\u001b[39;00m\u001b[39m\"\u001b[39m)\n\u001b[1;32m      <a href='vscode-notebook-cell://ssh-remote%2Bgalba/zfsdata/data/yorick/Internship/Scripts/PapyrusData/DataAnalysis.ipynb#X23sdnNjb2RlLXJlbW90ZQ%3D%3D?line=2'>3</a>\u001b[0m \u001b[39mprint\u001b[39m(\u001b[39mf\u001b[39m\u001b[39m\"\u001b[39m\u001b[39mNumber of items in year down: \u001b[39m\u001b[39m{\u001b[39;00m\u001b[39mlen\u001b[39m(yr_down_an)\u001b[39m}\u001b[39;00m\u001b[39m\"\u001b[39m)\n",
      "\u001b[0;31mNameError\u001b[0m: name 'LigAnti' is not defined"
     ]
    }
   ],
   "source": [
    "yr_up_an, yr_down_an = split.datasplitter(LigAnti, \"Year\", 2014)\n",
    "print(f\"Number of items in year up: {len(yr_up_an)}\")\n",
    "print(f\"Number of items in year down: {len(yr_down_an)}\")\n",
    "print(f\"Ratio: {len(yr_up_an)/len(yr_up_an)} op {len(yr_down_an)/len(yr_up_an)}\")"
   ]
  },
  {
   "cell_type": "code",
   "execution_count": 4,
   "metadata": {},
   "outputs": [],
   "source": [
    "# save up and down datasets for QSAR training\n",
    "\n",
    "# paths to files\n",
    "hCCR2_up = \"/zfsdata/data/yorick/Internship/Files/Datasets/QSAR_sets/hCCR2_2014_2021_valid.tsv\"\n",
    "hCCR2_down = \"/zfsdata/data/yorick/Internship/Files/Datasets/QSAR_sets/hCCR2_2000_2013_train.tsv\"\n",
    "\n",
    "hCCR158_up = \"/zfsdata/data/yorick/Internship/Files/Datasets/QSAR_sets/hCCR158_2014_2019_valid.tsv\"\n",
    "hCCR158_down = \"/zfsdata/data/yorick/Internship/Files/Datasets/QSAR_sets/hCCR158_1999_2013_train.tsv\"\n",
    "\n",
    "# save datasets\n",
    "yr_up.to_csv(hCCR2_up, sep='\\t', index=False)\n",
    "yr_down.to_csv(hCCR2_down, sep='\\t', index=False)\n",
    "\n",
    "yr_up_an.to_csv(hCCR158_up, sep='\\t', index=False)\n",
    "yr_down_an.to_csv(hCCR158_down, sep='\\t', index=False)\n"
   ]
  }
 ],
 "metadata": {
  "kernelspec": {
   "display_name": "Python 3.9.12 ('drugex_master')",
   "language": "python",
   "name": "python3"
  },
  "language_info": {
   "codemirror_mode": {
    "name": "ipython",
    "version": 3
   },
   "file_extension": ".py",
   "mimetype": "text/x-python",
   "name": "python",
   "nbconvert_exporter": "python",
   "pygments_lexer": "ipython3",
   "version": "3.9.12"
  },
  "orig_nbformat": 4,
  "vscode": {
   "interpreter": {
    "hash": "f0ca2973bf9390b89301dcc4d62d31454a48b04e2322fcaeba54f270819b47cc"
   }
  }
 },
 "nbformat": 4,
 "nbformat_minor": 2
}
