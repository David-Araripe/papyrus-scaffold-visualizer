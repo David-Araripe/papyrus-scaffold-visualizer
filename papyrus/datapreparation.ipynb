{
 "cells": [
  {
   "cell_type": "markdown",
   "metadata": {},
   "source": [
    "## This Notebook is to select the correct data from filtered papyrus datasets"
   ]
  },
  {
   "cell_type": "code",
   "execution_count": 2,
   "metadata": {},
   "outputs": [],
   "source": [
    "# import the goodies\n",
    "import pandas as pd\n",
    "import split_data as split"
   ]
  },
  {
   "cell_type": "code",
   "execution_count": 5,
   "metadata": {},
   "outputs": [
    {
     "name": "stdout",
     "output_type": "stream",
     "text": [
      "Saved the files\n"
     ]
    }
   ],
   "source": [
    "\"\"\"\n",
    "Here I will split the hCCR2 dataset into train and validation sets at year 2012\n",
    "\"\"\"\n",
    "\n",
    "# Variables\n",
    "file = \"/zfsdata/data/yorick/Internship/Files/hCCR2_LIGANDS.tsv\"\n",
    "col_name = 'Year'\n",
    "threshold = 2013 # Threshold is 2012 for train and validation sets. The test set is then up from 2013, this is why 2013\n",
    "\n",
    "# read .tsv file into dataframe\n",
    "df = pd.read_csv(file, sep='\\t')\n",
    "\n",
    "# Call function\n",
    "up, down = split.datasplitter(df, col_name, threshold)\n",
    "# print(up.shape, down.shape)\n",
    "\n",
    "#save new files\n",
    "up.to_csv(\"/zfsdata/data/yorick/Internship/Files/hCCR2_LIGANDS_validation.tsv\", sep='\\t', index=False)\n",
    "down.to_csv(\"/zfsdata/data/yorick/Internship/Files/hCCR2_LIGANDS_training.tsv\", sep='\\t', index=False)\n",
    "print(\"Saved the files\")"
   ]
  },
  {
   "cell_type": "code",
   "execution_count": 12,
   "metadata": {},
   "outputs": [
    {
     "name": "stdout",
     "output_type": "stream",
     "text": [
      "(789, 31) (513, 31)\n",
      "Saved the files\n"
     ]
    }
   ],
   "source": [
    "\"Subsequently, I will split the hCCR2 training dataset into active and inactive datasets at pCHEMBL <= 6.5\"\n",
    "\n",
    "# Variables\n",
    "file = \"/zfsdata/data/yorick/Internship/Files/hCCR2_LIGANDS_training.tsv\"\n",
    "col_name = 'pchembl_value_Mean'\n",
    "threshold = 6.5 # from 6.5 and up are active ligands\n",
    "\n",
    "# read .tsv file into dataframe\n",
    "df = pd.read_csv(file, sep='\\t')\n",
    "\n",
    "# Call function\n",
    "up, down = split.datasplitter(df, col_name, threshold)\n",
    "print(up.shape, down.shape)\n",
    "\n",
    "#save new files\n",
    "up.to_csv(\"/zfsdata/data/yorick/Internship/Files/hCCR2_LIGANDS_training_active.tsv\", sep='\\t', index=False)\n",
    "down.to_csv(\"/zfsdata/data/yorick/Internship/Files/hCCR2_LIGANDS_training_inactive.tsv\", sep='\\t', index=False)\n",
    "print(\"Saved the files\")"
   ]
  },
  {
   "cell_type": "code",
   "execution_count": 13,
   "metadata": {},
   "outputs": [
    {
     "name": "stdout",
     "output_type": "stream",
     "text": [
      "(1030, 31)\n",
      "Saved file.\n"
     ]
    }
   ],
   "source": [
    "\"\"\"\n",
    "Here I will splits the hCCR2 dataset for pretraining into active and nonactive datasets at pCHEMBL <= 6.5\n",
    "\"\"\"\n",
    "\n",
    "# Variables\n",
    "file = \"/zfsdata/data/yorick/Internship/Files/hCCR2_LIGANDS.tsv\"\n",
    "col_name = 'pchembl_value_Mean'\n",
    "threshold = 6.5 # from 6.5 and up are active ligands\n",
    "\n",
    "# read .tsv file into dataframe\n",
    "df = pd.read_csv(file, sep='\\t')\n",
    "\n",
    "# Call function\n",
    "up = split.datasplitter(df, col_name, threshold, down=False)\n",
    "print(up.shape)\n",
    "\n",
    "#save new files\n",
    "up.to_csv(\"/zfsdata/data/yorick/Internship/Files/hCCR2_LIGANDS_pretraining_active.tsv\", sep='\\t', index=False)\n",
    "print(\"Saved file.\")\n"
   ]
  }
 ],
 "metadata": {
  "kernelspec": {
   "display_name": "Python 3.9.12 ('drugex_master': conda)",
   "language": "python",
   "name": "python3"
  },
  "language_info": {
   "codemirror_mode": {
    "name": "ipython",
    "version": 3
   },
   "file_extension": ".py",
   "mimetype": "text/x-python",
   "name": "python",
   "nbconvert_exporter": "python",
   "pygments_lexer": "ipython3",
   "version": "3.9.12"
  },
  "orig_nbformat": 4,
  "vscode": {
   "interpreter": {
    "hash": "f0ca2973bf9390b89301dcc4d62d31454a48b04e2322fcaeba54f270819b47cc"
   }
  }
 },
 "nbformat": 4,
 "nbformat_minor": 2
}
